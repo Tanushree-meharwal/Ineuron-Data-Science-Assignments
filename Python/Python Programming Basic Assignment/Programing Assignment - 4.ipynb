{
 "cells": [
  {
   "cell_type": "code",
   "execution_count": null,
   "id": "119efe28",
   "metadata": {},
   "outputs": [],
   "source": [
    "#1. Write a Python Program to Find the Factorial of a Number?\n",
    "n = int(input(\"enter the number: \"))\n",
    "fact = 1\n",
    "for i in range(n):\n",
    "    fact = fact*(n-i)\n",
    "print(fact)"
   ]
  },
  {
   "cell_type": "code",
   "execution_count": null,
   "id": "8fdc94a8",
   "metadata": {},
   "outputs": [],
   "source": [
    "#2. Write a Python Program to Display the multiplication Table?\n",
    "n = int(input(\"Enter the number of Table: \"))\n",
    "for i in range(1,11):\n",
    "    print(f\"{i} X {n} =\",n*i)"
   ]
  },
  {
   "cell_type": "code",
   "execution_count": null,
   "id": "5ec47844",
   "metadata": {},
   "outputs": [],
   "source": [
    "#3. Write a Python Program to Print the Fibonacci sequence?\n",
    "a = 0 \n",
    "b = 1\n",
    "n = int(input(\"How many number you want in fibonacci sequence: \"))\n",
    "for i in range(n):\n",
    "    c = a+b\n",
    "    a = b\n",
    "    b = c\n",
    "    print(c)    "
   ]
  },
  {
   "cell_type": "code",
   "execution_count": null,
   "id": "80f3c8a2",
   "metadata": {},
   "outputs": [],
   "source": [
    "#4. Write a Python Program to Check Armstrong Number?\n",
    "num = int(input(\"Enter a number: \"))\n",
    "sum = 0\n",
    "temp = num\n",
    "while temp > 0:\n",
    "    digit = temp % 10\n",
    "    sum += digit ** 3\n",
    "    temp //= 10\n",
    "if num == sum:\n",
    "    print(num,\"is an Armstrong number\")\n",
    "else:\n",
    "    print(num,\"is not an Armstrong number\")"
   ]
  },
  {
   "cell_type": "code",
   "execution_count": null,
   "id": "0ca7cff3",
   "metadata": {},
   "outputs": [],
   "source": [
    "#5. Write a Python Program to Find Armstrong Number in an Interval?\n",
    "x=int(input(\"lower limit: \"))\n",
    "y=int(input(\"upper limit: \"))\n",
    "print(\"Armstrong Numbers are: \")\n",
    "for Number in range(x,y):\n",
    "    digits=0\n",
    "    temp=Number\n",
    "    while temp>0: \n",
    "        digits=digits+1\n",
    "        temp=temp//10\n",
    "        sum=0\n",
    "        temp=Number\n",
    "        while temp>0: \n",
    "            last_digit=temp%10\n",
    "            sum=sum+(last_digit**digits)\n",
    "            temp=temp//10\n",
    "    if Number == sum:\n",
    "        print(Number)"
   ]
  },
  {
   "cell_type": "code",
   "execution_count": null,
   "id": "1da84a1e",
   "metadata": {},
   "outputs": [],
   "source": [
    "#6. Write a Python Program to Find the Sum of Natural Numbers?\n",
    "n = int(input(\"Enter the number: \"))\n",
    "sum = 0\n",
    "for i in range(1,n+1):\n",
    "    sum = sum + i\n",
    "print(sum)    "
   ]
  },
  {
   "cell_type": "code",
   "execution_count": null,
   "id": "d563b342",
   "metadata": {},
   "outputs": [],
   "source": []
  }
 ],
 "metadata": {
  "kernelspec": {
   "display_name": "Python 3 (ipykernel)",
   "language": "python",
   "name": "python3"
  },
  "language_info": {
   "codemirror_mode": {
    "name": "ipython",
    "version": 3
   },
   "file_extension": ".py",
   "mimetype": "text/x-python",
   "name": "python",
   "nbconvert_exporter": "python",
   "pygments_lexer": "ipython3",
   "version": "3.9.12"
  }
 },
 "nbformat": 4,
 "nbformat_minor": 5
}
