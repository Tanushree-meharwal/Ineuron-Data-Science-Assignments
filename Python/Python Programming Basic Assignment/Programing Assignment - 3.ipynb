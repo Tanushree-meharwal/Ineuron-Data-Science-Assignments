{
 "cells": [
  {
   "cell_type": "code",
   "execution_count": null,
   "id": "f633edbb",
   "metadata": {},
   "outputs": [],
   "source": [
    "#1. Write a Python Program to Check if a Number is Positive, Negative or Zero?\n",
    "num = int(input(\"enter the number: \"))\n",
    "if num>0:\n",
    "    print(f\"Given number {num} is positive.\")\n",
    "elif num<0:\n",
    "    print(f\"Given number {num} is negative.\")\n",
    "else:\n",
    "    print(f\"Given number {num} is Zero\")"
   ]
  },
  {
   "cell_type": "code",
   "execution_count": null,
   "id": "d26ebe93",
   "metadata": {},
   "outputs": [],
   "source": [
    "#2. Write a Python Program to Check if a Number is Odd or Even?\n",
    "num = int(input(\"Enter the number: \"))\n",
    "if num%2==0:\n",
    "    print(f\"Given number {num} is even.\")\n",
    "else:\n",
    "    print(f\"Given number {num} is odd.\")"
   ]
  },
  {
   "cell_type": "code",
   "execution_count": null,
   "id": "243af956",
   "metadata": {},
   "outputs": [],
   "source": [
    "#3. Write a Python Program to Check Leap Year?\n",
    "year = int(input(\"enetr number of year :\"))\n",
    "if year%400==0:\n",
    "    print(\"given year is a leap year\")\n",
    "elif year%100!=0 and year%4==0:\n",
    "    print(\"given year is a leap year\")\n",
    "else:\n",
    "    print(\"given year is not a leap year\")"
   ]
  },
  {
   "cell_type": "code",
   "execution_count": null,
   "id": "803d7b08",
   "metadata": {},
   "outputs": [],
   "source": [
    "#4. Write a Python Program to Check Prime Number?\n",
    "n = int(input(\"enter the number: \"))\n",
    "if (n<2:\n",
    "    print(f\"Given number {n} is not prime.\")\n",
    "else:    \n",
    "    for i in range(2,n):\n",
    "        if n%i==0:\n",
    "            print(f\"Given number {n} is not prime.\")\n",
    "            break\n",
    "        else:\n",
    "            print(f\"Given number {n} is prime.\")\n",
    "            break"
   ]
  },
  {
   "cell_type": "code",
   "execution_count": null,
   "id": "4c1460f0",
   "metadata": {},
   "outputs": [],
   "source": [
    "#5. Write a Python Program to Print all Prime Numbers in an Interval of 1-10000?\n",
    "l1 = []\n",
    "for x in range(1,10000):\n",
    "    flag=False\n",
    "    for y in range(2,x):\n",
    "        if (x%y ==0):\n",
    "            flag = True\n",
    "            break\n",
    "    if (not flag):\n",
    "        l1.append(x)\n",
    "print(l1)        "
   ]
  },
  {
   "cell_type": "code",
   "execution_count": null,
   "id": "3ea709dd",
   "metadata": {},
   "outputs": [],
   "source": []
  }
 ],
 "metadata": {
  "kernelspec": {
   "display_name": "Python 3 (ipykernel)",
   "language": "python",
   "name": "python3"
  },
  "language_info": {
   "codemirror_mode": {
    "name": "ipython",
    "version": 3
   },
   "file_extension": ".py",
   "mimetype": "text/x-python",
   "name": "python",
   "nbconvert_exporter": "python",
   "pygments_lexer": "ipython3",
   "version": "3.9.12"
  }
 },
 "nbformat": 4,
 "nbformat_minor": 5
}
