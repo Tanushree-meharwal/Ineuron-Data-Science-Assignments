{
 "cells": [
  {
   "cell_type": "code",
   "execution_count": 1,
   "id": "7cc3191c",
   "metadata": {},
   "outputs": [
    {
     "name": "stdout",
     "output_type": "stream",
     "text": [
      "Enter the ditance in Kilometer unit: 10\n",
      "10km = 6.21miles\n"
     ]
    }
   ],
   "source": [
    "#1. Write a Python program to convert kilometers to miles?\n",
    "k_m  = eval(input(\"Enter the ditance in Kilometer unit: \"))\n",
    "# #conversion factor\n",
    "cf = 0.621371\n",
    "miles = k_m* cf\n",
    "print(f\"{k_m}km = {round(miles,2)}miles\")"
   ]
  },
  {
   "cell_type": "code",
   "execution_count": 3,
   "id": "4e162d8a",
   "metadata": {},
   "outputs": [
    {
     "name": "stdout",
     "output_type": "stream",
     "text": [
      "enter the temprature in celsius: 37\n",
      "37 degree celsius = 98.60 degree farenheit\n"
     ]
    }
   ],
   "source": [
    "#2. Write a Python program to convert Celsius to Fahrenheit?\n",
    "cel = eval(input(\"enter the temprature in celsius: \"))\n",
    "fah = (cel*9/5)+32\n",
    "print(f\"{cel} degree celsius = %0.2f degree farenheit\" %(fah))"
   ]
  },
  {
   "cell_type": "code",
   "execution_count": 8,
   "id": "745aa28e",
   "metadata": {},
   "outputs": [
    {
     "name": "stdout",
     "output_type": "stream",
     "text": [
      "Enter the year: 2022\n",
      "Enter the month9\n",
      "   September 2022\n",
      "Mo Tu We Th Fr Sa Su\n",
      "          1  2  3  4\n",
      " 5  6  7  8  9 10 11\n",
      "12 13 14 15 16 17 18\n",
      "19 20 21 22 23 24 25\n",
      "26 27 28 29 30\n",
      "\n",
      "                                  2022\n",
      "\n",
      "      January                   February                   March\n",
      "Mo Tu We Th Fr Sa Su      Mo Tu We Th Fr Sa Su      Mo Tu We Th Fr Sa Su\n",
      "                1  2          1  2  3  4  5  6          1  2  3  4  5  6\n",
      " 3  4  5  6  7  8  9       7  8  9 10 11 12 13       7  8  9 10 11 12 13\n",
      "10 11 12 13 14 15 16      14 15 16 17 18 19 20      14 15 16 17 18 19 20\n",
      "17 18 19 20 21 22 23      21 22 23 24 25 26 27      21 22 23 24 25 26 27\n",
      "24 25 26 27 28 29 30      28                        28 29 30 31\n",
      "31\n",
      "\n",
      "       April                      May                       June\n",
      "Mo Tu We Th Fr Sa Su      Mo Tu We Th Fr Sa Su      Mo Tu We Th Fr Sa Su\n",
      "             1  2  3                         1             1  2  3  4  5\n",
      " 4  5  6  7  8  9 10       2  3  4  5  6  7  8       6  7  8  9 10 11 12\n",
      "11 12 13 14 15 16 17       9 10 11 12 13 14 15      13 14 15 16 17 18 19\n",
      "18 19 20 21 22 23 24      16 17 18 19 20 21 22      20 21 22 23 24 25 26\n",
      "25 26 27 28 29 30         23 24 25 26 27 28 29      27 28 29 30\n",
      "                          30 31\n",
      "\n",
      "        July                     August                  September\n",
      "Mo Tu We Th Fr Sa Su      Mo Tu We Th Fr Sa Su      Mo Tu We Th Fr Sa Su\n",
      "             1  2  3       1  2  3  4  5  6  7                1  2  3  4\n",
      " 4  5  6  7  8  9 10       8  9 10 11 12 13 14       5  6  7  8  9 10 11\n",
      "11 12 13 14 15 16 17      15 16 17 18 19 20 21      12 13 14 15 16 17 18\n",
      "18 19 20 21 22 23 24      22 23 24 25 26 27 28      19 20 21 22 23 24 25\n",
      "25 26 27 28 29 30 31      29 30 31                  26 27 28 29 30\n",
      "\n",
      "      October                   November                  December\n",
      "Mo Tu We Th Fr Sa Su      Mo Tu We Th Fr Sa Su      Mo Tu We Th Fr Sa Su\n",
      "                1  2          1  2  3  4  5  6                1  2  3  4\n",
      " 3  4  5  6  7  8  9       7  8  9 10 11 12 13       5  6  7  8  9 10 11\n",
      "10 11 12 13 14 15 16      14 15 16 17 18 19 20      12 13 14 15 16 17 18\n",
      "17 18 19 20 21 22 23      21 22 23 24 25 26 27      19 20 21 22 23 24 25\n",
      "24 25 26 27 28 29 30      28 29 30                  26 27 28 29 30 31\n",
      "31\n",
      "\n"
     ]
    }
   ],
   "source": [
    "#3. Write a Python program to display calendar?\n",
    "import calendar      # we import the calendar module \n",
    "year = int(input(\"Enter the year: \"))\n",
    "month = int(input(\"Enter the month\"))\n",
    "# for the month calendar\n",
    "print(calendar.month(year,month))\n",
    "# for the year calendar\n",
    "print(calendar.calendar(year)) "
   ]
  },
  {
   "cell_type": "code",
   "execution_count": 15,
   "id": "b01539a2",
   "metadata": {},
   "outputs": [
    {
     "name": "stdout",
     "output_type": "stream",
     "text": [
      "enter a value: 4\n",
      "enter b value: 8\n",
      "enter c value: 4\n",
      "roots are same -16.0 -16.0\n"
     ]
    }
   ],
   "source": [
    "#4. Write a Python program to solve quadratic equation?\n",
    "import math\n",
    "import cmath\n",
    "a = int(input(\"enter a value: \"))\n",
    "b = int(input(\"enter b value: \"))\n",
    "c = int(input(\"enter c value: \"))\n",
    "d = math.pow(b,2)-4*a*c\n",
    "if d==0:\n",
    "    r1 = -b/2*a\n",
    "    r2 = -b/2*a\n",
    "    print(\"roots are same\",r1,r2)\n",
    "elif d > 0:\n",
    "    r1 = (-b-cmath.sqrt(d))/(2 * a)\n",
    "    r2 = (-b+cmath.sqrt(d))/(2 * a)\n",
    "    print(\"roots are Real and different\",r1,r2)   \n",
    "else:\n",
    "    r1 = (-b-cmath.sqrt(d))/(2 * a)\n",
    "    r2 = (-b+cmath.sqrt(d))/(2 * a)\n",
    "    print(\"roots are imagnery\",r1,r2)"
   ]
  },
  {
   "cell_type": "code",
   "execution_count": 16,
   "id": "d0b2f36c",
   "metadata": {},
   "outputs": [
    {
     "name": "stdout",
     "output_type": "stream",
     "text": [
      "enter the first value: 3\n",
      "enter the second value: 4\n",
      "after swaping first value 4 and second value 3.\n"
     ]
    }
   ],
   "source": [
    "#5. Write a Python program to swap two variables without temp variable?\n",
    "num1 = int(input(\"enter the first value: \"))\n",
    "num2 = int(input(\"enter the second value: \"))\n",
    "num1 = num1 + num2\n",
    "num2 = num1 - num2\n",
    "num1 = num1 - num2\n",
    "print(f\"after swaping first value is {num1} and second value is {num2}.\")"
   ]
  }
 ],
 "metadata": {
  "kernelspec": {
   "display_name": "Python 3 (ipykernel)",
   "language": "python",
   "name": "python3"
  },
  "language_info": {
   "codemirror_mode": {
    "name": "ipython",
    "version": 3
   },
   "file_extension": ".py",
   "mimetype": "text/x-python",
   "name": "python",
   "nbconvert_exporter": "python",
   "pygments_lexer": "ipython3",
   "version": "3.9.12"
  }
 },
 "nbformat": 4,
 "nbformat_minor": 5
}
