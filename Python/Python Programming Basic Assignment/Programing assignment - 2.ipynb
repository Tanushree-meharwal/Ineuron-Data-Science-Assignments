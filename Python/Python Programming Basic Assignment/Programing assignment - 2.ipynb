{
 "cells": [
  {
   "cell_type": "code",
   "execution_count": null,
   "id": "7cc3191c",
   "metadata": {},
   "outputs": [],
   "source": [
    "#1. Write a Python program to convert kilometers to miles?\n",
    "k_m  = eval(input(\"Enter the ditance in Kilometer unit: \"))\n",
    "miles = k_m* 0.621371192237\n",
    "print(f\"{k_m}km = {round(miles,2)}miles\")"
   ]
  },
  {
   "cell_type": "code",
   "execution_count": null,
   "id": "4e162d8a",
   "metadata": {},
   "outputs": [],
   "source": [
    "#2. Write a Python program to convert Celsius to Fahrenheit?\n",
    "cel = eval(input(\"enter the temprature in celsius: \"))\n",
    "fah = (cel*9/5)+32\n",
    "print(f\"{cel} degree celsius = {fah} degree farenheit\")"
   ]
  },
  {
   "cell_type": "code",
   "execution_count": null,
   "id": "745aa28e",
   "metadata": {},
   "outputs": [],
   "source": [
    "#3. Write a Python program to display calendar?\n",
    "import calendar      # we import the calendar module \n",
    "year = int(input(\"Enter the year: \"))\n",
    "print(calendar.calendar(year)) "
   ]
  },
  {
   "cell_type": "code",
   "execution_count": null,
   "id": "b01539a2",
   "metadata": {},
   "outputs": [],
   "source": [
    "#4. Write a Python program to solve quadratic equation?\n",
    "import math\n",
    "import cmath\n",
    "a = int(input(\"enter a value: \"))\n",
    "b = int(input(\"enter b value: \"))\n",
    "c = int(input(\"enter c value: \"))\n",
    "d = math.pow(b,2)-4*a*c\n",
    "if d==0:\n",
    "    r1 = -b/2*a\n",
    "    r2 = -b/2*a\n",
    "    print(\"roots are same\",r1,r2)\n",
    "elif d > 0:\n",
    "    r1 = (-b-cmath.sqrt(d))/(2 * a)\n",
    "    r2 = (-b+cmath.sqrt(d))/(2 * a)\n",
    "    print(\"roots are Real and different\",r1,r2)   \n",
    "else:\n",
    "    r1 = (-b-cmath.sqrt(d))/(2 * a)\n",
    "    r2 = (-b+cmath.sqrt(d))/(2 * a)\n",
    "    print(\"roots are imagnery\",r1,r2)"
   ]
  },
  {
   "cell_type": "code",
   "execution_count": null,
   "id": "d0b2f36c",
   "metadata": {},
   "outputs": [],
   "source": [
    "#5. Write a Python program to swap two variables without temp variable?\n",
    "num1 = int(input(\"enter the first value: \"))\n",
    "num2 = int(input(\"enter the second value: \"))\n",
    "num1 = num1 + num2\n",
    "num2 = num1 - num2\n",
    "num1 = num1 - num2\n",
    "print(f\"after swaping first value {num1} and second value {num2}.\")"
   ]
  },
  {
   "cell_type": "code",
   "execution_count": null,
   "id": "df32c29a",
   "metadata": {},
   "outputs": [],
   "source": []
  }
 ],
 "metadata": {
  "kernelspec": {
   "display_name": "Python 3 (ipykernel)",
   "language": "python",
   "name": "python3"
  },
  "language_info": {
   "codemirror_mode": {
    "name": "ipython",
    "version": 3
   },
   "file_extension": ".py",
   "mimetype": "text/x-python",
   "name": "python",
   "nbconvert_exporter": "python",
   "pygments_lexer": "ipython3",
   "version": "3.9.12"
  }
 },
 "nbformat": 4,
 "nbformat_minor": 5
}
