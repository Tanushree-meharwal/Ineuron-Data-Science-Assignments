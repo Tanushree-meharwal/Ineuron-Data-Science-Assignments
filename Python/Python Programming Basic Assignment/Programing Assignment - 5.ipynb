{
 "cells": [
  {
   "cell_type": "code",
   "execution_count": 2,
   "id": "ba00bea0",
   "metadata": {},
   "outputs": [
    {
     "name": "stdout",
     "output_type": "stream",
     "text": [
      "Enter the first number: 12\n",
      "Enter the second number: 34\n",
      "first num 12 and second number 34 of LCM is 204.\n"
     ]
    }
   ],
   "source": [
    "#1. Write a Python Program to Find LCM?\n",
    "f_num = int(input(\"Enter the first number: \"))\n",
    "s_num = int(input(\"Enter the second number: \"))\n",
    "for i in range(1,f_num*s_num):\n",
    "    if (i%f_num==0 and i%s_num == 0):\n",
    "        print(f\"first num {f_num} and second number {s_num} of LCM is {i}.\")"
   ]
  },
  {
   "cell_type": "code",
   "execution_count": 3,
   "id": "86f034d6",
   "metadata": {},
   "outputs": [
    {
     "name": "stdout",
     "output_type": "stream",
     "text": [
      "Enter the first number: 12\n",
      "Enter the second number: 34\n",
      "first num 12 and second number 34 of HCM is 2.0.\n"
     ]
    }
   ],
   "source": [
    "#2. Write a Python Program to Find HCF?\n",
    "f_num = int(input(\"Enter the first number: \"))\n",
    "s_num = int(input(\"Enter the second number: \"))\n",
    "for i in range(1,f_num*s_num):\n",
    "    if (i%f_num==0 and i%s_num == 0):\n",
    "        H = (f_num*s_num)/i\n",
    "        print(f\"first num {f_num} and second number {s_num} of HCM is {H}.\")"
   ]
  },
  {
   "cell_type": "code",
   "execution_count": 7,
   "id": "c6132333",
   "metadata": {},
   "outputs": [
    {
     "name": "stdout",
     "output_type": "stream",
     "text": [
      "Enter any decimal Number: 32\n",
      "Decimal 32 to binary conversion--> 0b100000\n",
      "Decimal 32 to octal conversion--> 0o40\n",
      "Decimal 32 to Hexadecimal conversion--> 0x20\n"
     ]
    }
   ],
   "source": [
    "#3. Write a Python Program to Convert Decimal to Binary, Octal and Hexadecimal?\n",
    "a = int(input(\"Enter any decimal Number: \"))            # decimal \n",
    "binary = bin(a)\n",
    "print(f\"Decimal {a} to binary conversion-->\",binary)\n",
    "octal = oct(a)\n",
    "print(f\"Decimal {a} to octal conversion-->\",octal)\n",
    "hexa = hex(a)\n",
    "print(f\"Decimal {a} to Hexadecimal conversion-->\",hexa)"
   ]
  },
  {
   "cell_type": "code",
   "execution_count": 16,
   "id": "d665e918",
   "metadata": {},
   "outputs": [
    {
     "name": "stdout",
     "output_type": "stream",
     "text": [
      "Enter your fav character: d\n",
      "The ASCII Value of Character 'd' is 100.\n"
     ]
    }
   ],
   "source": [
    "#4. Write a Python Program To Find ASCII value of a character?\n",
    "character = input(\"Enter your fav character: \")\n",
    "Ascii_value = ord(character)\n",
    "print(f\"The ASCII Value of Character '{character}' is {Ascii_value}.\")"
   ]
  },
  {
   "cell_type": "code",
   "execution_count": 15,
   "id": "3221669a",
   "metadata": {},
   "outputs": [
    {
     "name": "stdout",
     "output_type": "stream",
     "text": [
      "Select a Arithmetic Operation:         \n",
      "1.Addition(+)        \n",
      "2.Division(-)        \n",
      "2.Multiplication(*)        \n",
      "4.Division(/)        \n",
      "3.Stop(0)\n",
      "\n",
      "Enter the first number: -34\n",
      "Enter the second number: 3\n",
      "Enter the operator: -\n",
      "Valid Input\n",
      "Difference of first number -34 and second number 3 is -37\n"
     ]
    }
   ],
   "source": [
    "#5. Write a Python Program to Make a Simple Calculator with 4 basic mathematical operations?\n",
    "print('Select a Arithmetic Operation: \\\n",
    "        \\n1.Addition(+)\\\n",
    "        \\n2.Division(-)\\\n",
    "        \\n2.Multiplication(*)\\\n",
    "        \\n4.Division(/)\\\n",
    "        \\n3.Stop(0)\\n')\n",
    "first_num = int(input(\"Enter the first number: \"))\n",
    "sec_num = int(input(\"Enter the second number: \"))\n",
    "operator = input(\"Enter the operator: \")\n",
    "if (operator == '+' or operator == '-' or operator == '*' or operator == '/'):\n",
    "    print(\"Valid Input\")\n",
    "    if (operator == '+' ):\n",
    "        print(f\"Sum of first number {first_num} and second number {sec_num} is\",first_num+sec_num)\n",
    "    elif (operator == '-' ):\n",
    "        print(f\"Difference of first number {first_num} and second number {sec_num} is\",first_num-sec_num)\n",
    "    elif (operator == '*' ):\n",
    "        print(f\"Multiply of first number {first_num} and second number {sec_num} is\",first_num*sec_num)\n",
    "    elif (operator == '/' ):\n",
    "        print(f\"Division of first number {first_num} and second number {sec_num} is\",first_num/sec_num)\n",
    "    elif (operator == '0'): \n",
    "        print(\"Stop\")\n",
    "else:\n",
    "    print(\"Invalid Input\\nPlease Enter valid operator (*,+,-,/)\")"
   ]
  }
 ],
 "metadata": {
  "kernelspec": {
   "display_name": "Python 3 (ipykernel)",
   "language": "python",
   "name": "python3"
  },
  "language_info": {
   "codemirror_mode": {
    "name": "ipython",
    "version": 3
   },
   "file_extension": ".py",
   "mimetype": "text/x-python",
   "name": "python",
   "nbconvert_exporter": "python",
   "pygments_lexer": "ipython3",
   "version": "3.9.12"
  }
 },
 "nbformat": 4,
 "nbformat_minor": 5
}
