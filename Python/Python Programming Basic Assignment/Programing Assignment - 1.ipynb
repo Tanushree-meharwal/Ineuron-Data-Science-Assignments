{
 "cells": [
  {
   "cell_type": "code",
   "execution_count": null,
   "id": "cf793c76",
   "metadata": {},
   "outputs": [],
   "source": [
    "#1. Write a Python program to print \"Hello Python\"\n",
    "print(\"Hello Python\")"
   ]
  },
  {
   "cell_type": "code",
   "execution_count": null,
   "id": "9ba6c559",
   "metadata": {},
   "outputs": [],
   "source": [
    "#2. Write a Python program to do arithmetical operations addition and division.?\n",
    "print('Select a Arithmetic Operation: \\\n",
    "        \\n1.Addition(+)\\\n",
    "        \\n2.Division(-)\\\n",
    "        \\n2.Multiplication(*)\\\n",
    "        \\n4.Division(/)\\\n",
    "        \\n3.Stop(0)\\n')\n",
    "first_num = int(input(\"Enter the first number: \"))\n",
    "sec_num = int(input(\"Enter the second number: \"))\n",
    "operator = input(\"Enter the operator: \")\n",
    "if (operator == '+' or operator == '-' or operator == '*' or operator == '/'):\n",
    "    print(\"Valid Input\")\n",
    "    if (operator == '+' ):\n",
    "        print(f\"Sum of first number {first_num} and second number {sec_num} is\",first_num+sec_num)\n",
    "    elif (operator == '-' ):\n",
    "        print(f\"Difference of first number {first_num} and second number {sec_num} is\",first_num-sec_num)\n",
    "    elif (operator == '*' ):\n",
    "        print(f\"Multiply of first number {first_num} and second number {sec_num} is\",first_num*sec_num)\n",
    "    elif (operator == '/' ):\n",
    "        print(f\"Division of first number {first_num} and second number {sec_num} is\",first_num/sec_num)\n",
    "    elif (operator == '0'): \n",
    "        print(\"Stop\")\n",
    "else:\n",
    "    print(\"Invalid Input\\nPlease Enter valid operator (*,+,-,/)\")"
   ]
  },
  {
   "cell_type": "code",
   "execution_count": null,
   "id": "422265de",
   "metadata": {},
   "outputs": [],
   "source": [
    "#3. Write a Python program to find the area of a triangle?\n",
    "l = eval(input(\"Enter the length of Triangle: \"))\n",
    "b = eval(input(\"Enter the breath of Triangle: \"))\n",
    "area_triangle = 0.5*l*b\n",
    "print(round(area_triangle))"
   ]
  },
  {
   "cell_type": "code",
   "execution_count": null,
   "id": "693aa321",
   "metadata": {},
   "outputs": [],
   "source": [
    "#4. Write a Python program to swap two variables?\n",
    "a = input(\"Enter the first value: \")\n",
    "b = input(\"Enter the second value: \")\n",
    "c = a\n",
    "a = b\n",
    "b = c\n",
    "print(f\"after swaping first value {a}\\nSecond value {b}\")\n",
    "a,b = b,a\n",
    "print(f\"after swaping first value {a}\\nSecond value {b}\")"
   ]
  },
  {
   "cell_type": "code",
   "execution_count": null,
   "id": "056b3d0f",
   "metadata": {},
   "outputs": [],
   "source": [
    "#5. Write a Python program to generate a random number?\n",
    "import random           # import random module\n",
    "from random import randint \n",
    "# randint(start value, end value) \n",
    "randint(4,7)# here randomly generate number "
   ]
  }
 ],
 "metadata": {
  "kernelspec": {
   "display_name": "Python 3 (ipykernel)",
   "language": "python",
   "name": "python3"
  },
  "language_info": {
   "codemirror_mode": {
    "name": "ipython",
    "version": 3
   },
   "file_extension": ".py",
   "mimetype": "text/x-python",
   "name": "python",
   "nbconvert_exporter": "python",
   "pygments_lexer": "ipython3",
   "version": "3.9.12"
  }
 },
 "nbformat": 4,
 "nbformat_minor": 5
}
