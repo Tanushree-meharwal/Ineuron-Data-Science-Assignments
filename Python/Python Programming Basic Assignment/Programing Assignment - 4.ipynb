{
 "cells": [
  {
   "cell_type": "code",
   "execution_count": 7,
   "id": "119efe28",
   "metadata": {},
   "outputs": [
    {
     "name": "stdout",
     "output_type": "stream",
     "text": [
      "enter the number: 6\n",
      "The Factorial of 6 is 720.\n"
     ]
    }
   ],
   "source": [
    "#1. Write a Python Program to Find the Factorial of a Number?\n",
    "num = int(input(\"enter the number: \"))\n",
    "fact = 1\n",
    "if num < 0:\n",
    "    print(\"Oops Check the number,\\nfactorial does not exist for negative numbers.\")\n",
    "elif num == 0:\n",
    "    print(\"The factorial of 0 is 1\")\n",
    "else:\n",
    "    for i in range(n):\n",
    "        fact = fact*(num-i)\n",
    "    print(f\"The Factorial of {num} is {fact}.\")"
   ]
  },
  {
   "cell_type": "code",
   "execution_count": 1,
   "id": "8fdc94a8",
   "metadata": {},
   "outputs": [
    {
     "name": "stdout",
     "output_type": "stream",
     "text": [
      "Enter the number of Table: 4\n",
      "1 X 4 = 4\n",
      "2 X 4 = 8\n",
      "3 X 4 = 12\n",
      "4 X 4 = 16\n",
      "5 X 4 = 20\n",
      "6 X 4 = 24\n",
      "7 X 4 = 28\n",
      "8 X 4 = 32\n",
      "9 X 4 = 36\n",
      "10 X 4 = 40\n"
     ]
    }
   ],
   "source": [
    "#2. Write a Python Program to Display the multiplication Table?\n",
    "n = int(input(\"Enter the number of Table: \"))\n",
    "for i in range(1,11):\n",
    "    print(f\"{i} X {n} =\",n*i)"
   ]
  },
  {
   "cell_type": "code",
   "execution_count": 3,
   "id": "5ec47844",
   "metadata": {},
   "outputs": [
    {
     "name": "stdout",
     "output_type": "stream",
     "text": [
      "How many number you want in fibonacci sequence: 8\n",
      "1\n",
      "2\n",
      "3\n",
      "5\n",
      "8\n",
      "13\n",
      "21\n",
      "34\n"
     ]
    }
   ],
   "source": [
    "#3. Write a Python Program to Print the Fibonacci sequence?\n",
    "a = 0 \n",
    "b = 1\n",
    "n = int(input(\"How many number you want in fibonacci sequence: \"))\n",
    "for i in range(n):\n",
    "    c = a+b\n",
    "    a = b\n",
    "    b = c\n",
    "    print(c)    "
   ]
  },
  {
   "cell_type": "code",
   "execution_count": 8,
   "id": "80f3c8a2",
   "metadata": {},
   "outputs": [
    {
     "name": "stdout",
     "output_type": "stream",
     "text": [
      "Enter a number: 371\n",
      "371 is an Armstrong number\n"
     ]
    }
   ],
   "source": [
    "#4. Write a Python Program to Check Armstrong Number?\n",
    "num = int(input(\"Enter a number: \"))\n",
    "sum = 0\n",
    "temp = num\n",
    "while temp > 0:\n",
    "    digit = temp % 10\n",
    "    sum += digit ** 3\n",
    "    temp //= 10\n",
    "if num == sum:\n",
    "    print(num,\"is an Armstrong number\")\n",
    "else:\n",
    "    print(num,\"is not an Armstrong number\")"
   ]
  },
  {
   "cell_type": "code",
   "execution_count": 23,
   "id": "0ca7cff3",
   "metadata": {},
   "outputs": [
    {
     "name": "stdout",
     "output_type": "stream",
     "text": [
      "lower limit: 100\n",
      "upper limit: 400\n",
      "Armstrong Numbers are: \n",
      "153\n",
      "370\n",
      "371\n"
     ]
    }
   ],
   "source": [
    "#5. Write a Python Program to Find Armstrong Number in an Interval?        \n",
    "lower = int(input(\"lower limit: \"))\n",
    "upper = int(input(\"upper limit: \"))\n",
    "print(\"Armstrong Numbers are: \")\n",
    "for num in range(lower,upper+1):\n",
    "    order = len(str(num))\n",
    "    sum = 0\n",
    "    temp = num\n",
    "    while temp > 0:\n",
    "        digit = temp % 10\n",
    "        sum += (digit**order) \n",
    "        temp//=10\n",
    "    \n",
    "    if sum == num:\n",
    "        print(num)"
   ]
  },
  {
   "cell_type": "code",
   "execution_count": 16,
   "id": "1da84a1e",
   "metadata": {},
   "outputs": [
    {
     "name": "stdout",
     "output_type": "stream",
     "text": [
      "Enter the number: -2\n",
      "please enter a positive number:5\n",
      "Sum of 5 natural numbers is 15.\n"
     ]
    }
   ],
   "source": [
    "#6. Write a Python Program to Find the Sum of Natural Numbers?\n",
    "n = int(input(\"Enter the number: \"))\n",
    "if n < 0:\n",
    "    n = input('please enter a positive number:')\n",
    "else:\n",
    "    sum = 0\n",
    "    for i in range(1,n+1):\n",
    "        sum = sum + i\n",
    "        #print(sum)\n",
    "print(f'Sum of {n} natural numbers is {sum}.')    "
   ]
  }
 ],
 "metadata": {
  "kernelspec": {
   "display_name": "Python 3 (ipykernel)",
   "language": "python",
   "name": "python3"
  },
  "language_info": {
   "codemirror_mode": {
    "name": "ipython",
    "version": 3
   },
   "file_extension": ".py",
   "mimetype": "text/x-python",
   "name": "python",
   "nbconvert_exporter": "python",
   "pygments_lexer": "ipython3",
   "version": "3.9.12"
  }
 },
 "nbformat": 4,
 "nbformat_minor": 5
}
