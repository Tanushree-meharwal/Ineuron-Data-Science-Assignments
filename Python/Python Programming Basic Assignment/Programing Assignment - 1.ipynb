{
 "cells": [
  {
   "cell_type": "code",
   "execution_count": 1,
   "id": "cf793c76",
   "metadata": {},
   "outputs": [
    {
     "name": "stdout",
     "output_type": "stream",
     "text": [
      "Hello Python\n"
     ]
    }
   ],
   "source": [
    "#1. Write a Python program to print \"Hello Python\"\n",
    "print(\"Hello Python\")"
   ]
  },
  {
   "cell_type": "code",
   "execution_count": 5,
   "id": "9ba6c559",
   "metadata": {},
   "outputs": [
    {
     "name": "stdout",
     "output_type": "stream",
     "text": [
      "Select a Arithmetic Operation:         \n",
      "1.Addition(+)        \n",
      "2.Division(-)        \n",
      "2.Multiplication(*)        \n",
      "4.Division(/)        \n",
      "3.Stop(0)\n",
      "\n",
      "Enter the first number: 3\n",
      "Enter the second number: 4\n",
      "Enter the operator: +\n",
      "Valid Input\n",
      "Sum of first number 3 and second number 4 is 7\n"
     ]
    }
   ],
   "source": [
    "#2. Write a Python program to do arithmetical operations addition and division.?\n",
    "print('Select a Arithmetic Operation: \\\n",
    "        \\n1.Addition(+)\\\n",
    "        \\n2.Division(-)\\\n",
    "        \\n2.Multiplication(*)\\\n",
    "        \\n4.Division(/)\\\n",
    "        \\n3.Stop(0)\\n')\n",
    "first_num = int(input(\"Enter the first number: \"))\n",
    "sec_num = int(input(\"Enter the second number: \"))\n",
    "operator = input(\"Enter the operator: \")\n",
    "if (operator == '+' or operator == '-' or operator == '*' or operator == '/'):\n",
    "    print(\"Valid Input\")\n",
    "    if (operator == '+' ):\n",
    "        print(f\"Sum of first number {first_num} and second number {sec_num} is\",first_num+sec_num)\n",
    "    elif (operator == '-' ):\n",
    "        print(f\"Difference of first number {first_num} and second number {sec_num} is\",first_num-sec_num)\n",
    "    elif (operator == '*' ):\n",
    "        print(f\"Multiply of first number {first_num} and second number {sec_num} is\",first_num*sec_num)\n",
    "    elif (operator == '/' ):\n",
    "        print(f\"Division of first number {first_num} and second number {sec_num} is\",first_num/sec_num)\n",
    "    elif (operator == '0'): \n",
    "        print(\"Stop\")\n",
    "else:\n",
    "    print(\"Invalid Input\\nPlease Enter valid operator (*,+,-,/)\")"
   ]
  },
  {
   "cell_type": "code",
   "execution_count": 7,
   "id": "e3a609f4",
   "metadata": {},
   "outputs": [
    {
     "name": "stdout",
     "output_type": "stream",
     "text": [
      "Enter length of first side: 4\n",
      "Enter length of second side: 5\n",
      "Enter length of third side: 6\n",
      "The area of the triangle is 9.92\n"
     ]
    }
   ],
   "source": [
    "# 3. Write a Python program to find the area of a triangle?\n",
    "a = eval(input('Enter length of first side: '))\n",
    "b = eval(input('Enter length of second side: '))\n",
    "c = eval(input('Enter length of third side: '))\n",
    "\n",
    "# Calculating the semi-perimeter\n",
    "s = (a + b + c) / 2\n",
    "\n",
    "# Calculating the area\n",
    "area = (s*(s-a)*(s-b)*(s-c)) ** 0.5\n",
    "print('The area of the triangle is %0.2f' %area)"
   ]
  },
  {
   "cell_type": "code",
   "execution_count": 4,
   "id": "693aa321",
   "metadata": {},
   "outputs": [
    {
     "name": "stdout",
     "output_type": "stream",
     "text": [
      "Enter the first value: 3\n",
      "Enter the second value: 4\n",
      "after swaping first value is 4\n",
      "Second value is 3\n",
      "after swaping first value is 3\n",
      "Second value is 4\n"
     ]
    }
   ],
   "source": [
    "#4. Write a Python program to swap two variables?\n",
    "a = input(\"Enter the first value: \")\n",
    "b = input(\"Enter the second value: \")\n",
    "c = a\n",
    "a = b\n",
    "b = c\n",
    "print(f\"after swaping first value is {a}\\nSecond value is {b}\")\n",
    "# Second Way\n",
    "a,b = b,a\n",
    "print(f\"after swaping first value is {a}\\nSecond value is {b}\")"
   ]
  },
  {
   "cell_type": "code",
   "execution_count": 9,
   "id": "056b3d0f",
   "metadata": {},
   "outputs": [
    {
     "data": {
      "text/plain": [
       "192"
      ]
     },
     "execution_count": 9,
     "metadata": {},
     "output_type": "execute_result"
    }
   ],
   "source": [
    "#5. Write a Python program to generate a random number?\n",
    "import random           # import random module\n",
    "from random import randint \n",
    "# randint(start value, end value) \n",
    "randint(4,700)# here randomly generate number "
   ]
  }
 ],
 "metadata": {
  "kernelspec": {
   "display_name": "Python 3 (ipykernel)",
   "language": "python",
   "name": "python3"
  },
  "language_info": {
   "codemirror_mode": {
    "name": "ipython",
    "version": 3
   },
   "file_extension": ".py",
   "mimetype": "text/x-python",
   "name": "python",
   "nbconvert_exporter": "python",
   "pygments_lexer": "ipython3",
   "version": "3.9.12"
  }
 },
 "nbformat": 4,
 "nbformat_minor": 5
}
